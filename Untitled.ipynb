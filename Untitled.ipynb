{
 "cells": [
  {
   "cell_type": "code",
   "execution_count": null,
   "id": "cd9375da",
   "metadata": {},
   "outputs": [
    {
     "name": "stdout",
     "output_type": "stream",
     "text": [
      "Error connecting to TV\n"
     ]
    },
    {
     "name": "stderr",
     "output_type": "stream",
     "text": [
      "/var/folders/8n/_92_vzhx7tn28l_9mf79fmph0000gn/T/ipykernel_1180/990826589.py:14: RuntimeWarning: coroutine 'wait_for' was never awaited\n",
      "  print(\"Error connecting to TV\")\n",
      "RuntimeWarning: Enable tracemalloc to get the object allocation traceback\n"
     ]
    }
   ],
   "source": [
    "from pylgtv import WebOsClient\n",
    "\n",
    "import sys\n",
    "import logging\n",
    "\n",
    "logging.basicConfig(stream=sys.stdout, level=logging.INFO)\n",
    "\n",
    "try:\n",
    "    webos_client = WebOsClient('192.168.1.110')\n",
    "    webos_client.launch_app('netflix')\n",
    "    print(webos_client.get_volume())\n",
    "    \n",
    "except:\n",
    "    print(\"Error connecting to TV\")"
   ]
  },
  {
   "cell_type": "code",
   "execution_count": null,
   "id": "2378a606",
   "metadata": {},
   "outputs": [],
   "source": []
  }
 ],
 "metadata": {
  "kernelspec": {
   "display_name": "Python 3 (ipykernel)",
   "language": "python",
   "name": "python3"
  },
  "language_info": {
   "codemirror_mode": {
    "name": "ipython",
    "version": 3
   },
   "file_extension": ".py",
   "mimetype": "text/x-python",
   "name": "python",
   "nbconvert_exporter": "python",
   "pygments_lexer": "ipython3",
   "version": "3.9.7"
  }
 },
 "nbformat": 4,
 "nbformat_minor": 5
}
